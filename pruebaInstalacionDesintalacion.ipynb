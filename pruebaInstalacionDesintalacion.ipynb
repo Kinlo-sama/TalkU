{
 "cells": [
  {
   "cell_type": "code",
   "execution_count": 60,
   "id": "5f88ea69",
   "metadata": {},
   "outputs": [],
   "source": [
    "import subprocess\n",
    "import glob\n",
    "import os"
   ]
  },
  {
   "cell_type": "markdown",
   "id": "eff4596c",
   "metadata": {},
   "source": [
    "### **Funciones de apoyo**"
   ]
  },
  {
   "cell_type": "code",
   "execution_count": 61,
   "id": "2eb5aff1",
   "metadata": {},
   "outputs": [],
   "source": [
    "def ejecutar_adb(comando):\n",
    "    try:\n",
    "        resultado = subprocess.run(\n",
    "            comando, \n",
    "            shell=True, \n",
    "            capture_output=True, \n",
    "            text=True, \n",
    "            timeout=60\n",
    "        )\n",
    "        return resultado.returncode == 0, resultado.stdout + resultado.stderr\n",
    "    except Exception as e:\n",
    "        return False, str(e)\n",
    "\n",
    "def instalar_apk_con_paquete(ruta_apk):\n",
    "    if not os.path.exists(ruta_apk):\n",
    "        return False, None\n",
    "    \n",
    "    exito, apps_antes = ejecutar_adb('adb shell \"pm list packages -3\"')\n",
    "    apps_antes = set([p.replace('package:', '').strip() for p in apps_antes.split('\\n') if p])\n",
    "    \n",
    "    exito, mensaje = ejecutar_adb(f'adb install \"{ruta_apk}\"')\n",
    "    \n",
    "    if not exito:\n",
    "        return False, None\n",
    "    \n",
    "    exito, apps_despues = ejecutar_adb('adb shell \"pm list packages -3\"')\n",
    "    apps_despues = set([p.replace('package:', '').strip() for p in apps_despues.split('\\n') if p])\n",
    "    \n",
    "    nuevas_apps = apps_despues - apps_antes\n",
    "    \n",
    "    if nuevas_apps:\n",
    "        paquete = list(nuevas_apps)[0] \n",
    "        return True, paquete\n",
    "    else:\n",
    "        return True, None\n",
    "\n",
    "def desinstalar_app(paquete='me.talkyou.app.im', mantener_datos=False):\n",
    "    comando = f\"adb uninstall {'-k ' if mantener_datos else ''}{paquete}\"\n",
    "    exito, mensaje = ejecutar_adb(comando)\n",
    "    \n",
    "    if exito or \"Success\" in mensaje:\n",
    "        return True\n",
    "    else:\n",
    "        return False\n",
    "\n",
    "def listar_aplicaciones(filtro=None):\n",
    "    if filtro:\n",
    "        comando = f'adb shell \"pm list packages | grep {filtro}\"'\n",
    "    else:\n",
    "        comando = \"adb shell pm list packages\"\n",
    "    \n",
    "    exito, mensaje = ejecutar_adb(comando)\n",
    "    if exito:\n",
    "        paquetes = [linea.replace('package:', '').strip() \n",
    "                   for linea in mensaje.split('\\n') \n",
    "                   if linea.startswith('package:')]\n",
    "        return True, paquetes\n",
    "    else:\n",
    "        return False, mensaje"
   ]
  },
  {
   "cell_type": "markdown",
   "id": "c9c5d9db",
   "metadata": {},
   "source": [
    "### **Listado de aplicaciones a utilizar**"
   ]
  },
  {
   "cell_type": "code",
   "execution_count": 62,
   "id": "3a9ba821",
   "metadata": {},
   "outputs": [
    {
     "data": {
      "text/plain": [
       "['./apks/me.talkyou.app.im_3.4.1.apk',\n",
       " './apks/me.talkyou.app.im_4.16.5.apk',\n",
       " './apks/me.talkyou.app.im_5.0.0.apk',\n",
       " './apks/me.talkyou.app.im_6.1.5.apk',\n",
       " './apks/me.talkyou.app.im_6.1.6.apk',\n",
       " './apks/me.talkyou.app.im_6.1.7.apk',\n",
       " './apks/me.talkyou.app.im_6.1.8.apk',\n",
       " './apks/me.talkyou.app.im_6.1.9.apk',\n",
       " './apks/me.talkyou.app.im_6.2.0.apk',\n",
       " './apks/me.talkyou.app.im_6.2.1.apk',\n",
       " './apks/me.talkyou.app.im_6.2.2.apk']"
      ]
     },
     "execution_count": 62,
     "metadata": {},
     "output_type": "execute_result"
    }
   ],
   "source": [
    "lista_apks = sorted(glob.glob('./apks/*'))\n",
    "lista_apks"
   ]
  },
  {
   "cell_type": "markdown",
   "id": "6a765a62",
   "metadata": {},
   "source": [
    "### **Verificación de nombre de paquetes de las aplicación**"
   ]
  },
  {
   "cell_type": "code",
   "execution_count": 63,
   "id": "739626c3",
   "metadata": {},
   "outputs": [
    {
     "name": "stdout",
     "output_type": "stream",
     "text": [
      "./apks/me.talkyou.app.im_3.4.1.apk------------------> me.talkyou.app.im\n",
      "./apks/me.talkyou.app.im_4.16.5.apk------------------> me.talkyou.app.im\n",
      "./apks/me.talkyou.app.im_5.0.0.apk------------------> me.talkyou.app.im\n",
      "./apks/me.talkyou.app.im_6.1.5.apk------------------> me.talkyou.app.im\n",
      "./apks/me.talkyou.app.im_6.1.6.apk------------------> me.talkyou.app.im\n",
      "./apks/me.talkyou.app.im_6.1.7.apk------------------> me.talkyou.app.im\n",
      "./apks/me.talkyou.app.im_6.1.8.apk------------------> me.talkyou.app.im\n",
      "./apks/me.talkyou.app.im_6.1.9.apk------------------> me.talkyou.app.im\n",
      "./apks/me.talkyou.app.im_6.2.0.apk------------------> me.talkyou.app.im\n",
      "./apks/me.talkyou.app.im_6.2.1.apk------------------> me.talkyou.app.im\n",
      "./apks/me.talkyou.app.im_6.2.2.apk------------------> me.talkyou.app.im\n"
     ]
    }
   ],
   "source": [
    "lista_apk_paquete = []\n",
    "for apk in lista_apks:\n",
    "    sucess, paquete = instalar_apk_con_paquete(apk)\n",
    "    if sucess and paquete is not None:\n",
    "        desinstalar_app()\n",
    "    lista_apk_paquete.append((apk, paquete))\n",
    "    print(apk, paquete, sep='------------------> ')"
   ]
  },
  {
   "cell_type": "markdown",
   "id": "1cf4c2d0",
   "metadata": {},
   "source": [
    "### **Instalacion de apk individual, procedimiento manual**"
   ]
  },
  {
   "cell_type": "code",
   "execution_count": null,
   "id": "488cef6f",
   "metadata": {},
   "outputs": [
    {
     "name": "stdout",
     "output_type": "stream",
     "text": [
      "./apks/me.talkyou.app.im_6.2.2.apk------------------> me.talkyou.app.im\n"
     ]
    }
   ],
   "source": [
    "idx_apk = 0\n",
    "sucess, paquete = instalar_apk_con_paquete(lista_apks[idx_apk])\n",
    "print(lista_apks[idx_apk], paquete, sep=' ------------------> ')"
   ]
  },
  {
   "cell_type": "code",
   "execution_count": null,
   "id": "5ab209ae",
   "metadata": {},
   "outputs": [],
   "source": [
    "desinstalar_app()"
   ]
  },
  {
   "cell_type": "code",
   "execution_count": null,
   "id": "c1f6bcce",
   "metadata": {},
   "outputs": [],
   "source": [
    "# Pasos\n"
   ]
  }
 ],
 "metadata": {
  "kernelspec": {
   "display_name": "Python 3",
   "language": "python",
   "name": "python3"
  },
  "language_info": {
   "codemirror_mode": {
    "name": "ipython",
    "version": 3
   },
   "file_extension": ".py",
   "mimetype": "text/x-python",
   "name": "python",
   "nbconvert_exporter": "python",
   "pygments_lexer": "ipython3",
   "version": "3.10.12"
  }
 },
 "nbformat": 4,
 "nbformat_minor": 5
}
