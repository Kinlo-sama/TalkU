{
 "cells": [
  {
   "cell_type": "code",
   "execution_count": 1,
   "id": "5f88ea69",
   "metadata": {},
   "outputs": [],
   "source": [
    "import subprocess\n",
    "import glob\n",
    "import os\n",
    "import tempfile\n",
    "import base64"
   ]
  },
  {
   "cell_type": "markdown",
   "id": "eff4596c",
   "metadata": {},
   "source": [
    "### **Funciones de apoyo**"
   ]
  },
  {
   "cell_type": "code",
   "execution_count": 2,
   "id": "2eb5aff1",
   "metadata": {},
   "outputs": [],
   "source": [
    "def ejecutar_adb(comando):\n",
    "    try:\n",
    "        resultado = subprocess.run(\n",
    "            comando, \n",
    "            shell=True, \n",
    "            capture_output=True, \n",
    "            text=True, \n",
    "            timeout=60\n",
    "        )\n",
    "        return resultado.returncode == 0, resultado.stdout + resultado.stderr\n",
    "    except Exception as e:\n",
    "        return False, str(e)\n",
    "\n",
    "def instalar_apk_con_paquete(ruta_apk):\n",
    "    if not os.path.exists(ruta_apk):\n",
    "        return False, None\n",
    "    \n",
    "    exito, apps_antes = ejecutar_adb('adb shell \"pm list packages -3\"')\n",
    "    apps_antes = set([p.replace('package:', '').strip() for p in apps_antes.split('\\n') if p])\n",
    "    \n",
    "    exito, mensaje = ejecutar_adb(f'adb install \"{ruta_apk}\"')\n",
    "    \n",
    "    if not exito:\n",
    "        return False, None\n",
    "    \n",
    "    exito, apps_despues = ejecutar_adb('adb shell \"pm list packages -3\"')\n",
    "    apps_despues = set([p.replace('package:', '').strip() for p in apps_despues.split('\\n') if p])\n",
    "    \n",
    "    nuevas_apps = apps_despues - apps_antes\n",
    "    \n",
    "    if nuevas_apps:\n",
    "        paquete = list(nuevas_apps)[0] \n",
    "        return True, paquete\n",
    "    else:\n",
    "        return True, None\n",
    "\n",
    "def desinstalar_app(paquete='me.talkyou.app.im', mantener_datos=False):\n",
    "    comando = f\"adb uninstall {'-k ' if mantener_datos else ''}{paquete}\"\n",
    "    exito, mensaje = ejecutar_adb(comando)\n",
    "    \n",
    "    if exito or \"Success\" in mensaje:\n",
    "        return True\n",
    "    else:\n",
    "        return False\n",
    "\n",
    "def listar_aplicaciones(filtro=None):\n",
    "    if filtro:\n",
    "        comando = f'adb shell \"pm list packages | grep {filtro}\"'\n",
    "    else:\n",
    "        comando = \"adb shell pm list packages\"\n",
    "    \n",
    "    exito, mensaje = ejecutar_adb(comando)\n",
    "    if exito:\n",
    "        paquetes = [linea.replace('package:', '').strip() \n",
    "                   for linea in mensaje.split('\\n') \n",
    "                   if linea.startswith('package:')]\n",
    "        return True, paquetes\n",
    "    else:\n",
    "        return False, mensaje"
   ]
  },
  {
   "cell_type": "markdown",
   "id": "c9c5d9db",
   "metadata": {},
   "source": [
    "### **Listado de aplicaciones a utilizar**"
   ]
  },
  {
   "cell_type": "code",
   "execution_count": 3,
   "id": "3a9ba821",
   "metadata": {},
   "outputs": [
    {
     "data": {
      "text/plain": [
       "['./apks/me.talkyou.app.im_3.4.1.apk',\n",
       " './apks/me.talkyou.app.im_4.16.5.apk',\n",
       " './apks/me.talkyou.app.im_5.0.0.apk',\n",
       " './apks/me.talkyou.app.im_6.1.5.apk',\n",
       " './apks/me.talkyou.app.im_6.1.6.apk',\n",
       " './apks/me.talkyou.app.im_6.1.7.apk',\n",
       " './apks/me.talkyou.app.im_6.1.8.apk',\n",
       " './apks/me.talkyou.app.im_6.1.9.apk',\n",
       " './apks/me.talkyou.app.im_6.2.0.apk',\n",
       " './apks/me.talkyou.app.im_6.2.1.apk',\n",
       " './apks/me.talkyou.app.im_6.2.2.apk']"
      ]
     },
     "execution_count": 3,
     "metadata": {},
     "output_type": "execute_result"
    }
   ],
   "source": [
    "lista_apks = sorted(glob.glob('./apks/*'))\n",
    "lista_apks"
   ]
  },
  {
   "cell_type": "markdown",
   "id": "6a765a62",
   "metadata": {},
   "source": [
    "### **Verificación de nombre de paquetes de las aplicación**"
   ]
  },
  {
   "cell_type": "code",
   "execution_count": 63,
   "id": "739626c3",
   "metadata": {},
   "outputs": [
    {
     "name": "stdout",
     "output_type": "stream",
     "text": [
      "./apks/me.talkyou.app.im_3.4.1.apk------------------> me.talkyou.app.im\n",
      "./apks/me.talkyou.app.im_4.16.5.apk------------------> me.talkyou.app.im\n",
      "./apks/me.talkyou.app.im_5.0.0.apk------------------> me.talkyou.app.im\n",
      "./apks/me.talkyou.app.im_6.1.5.apk------------------> me.talkyou.app.im\n",
      "./apks/me.talkyou.app.im_6.1.6.apk------------------> me.talkyou.app.im\n",
      "./apks/me.talkyou.app.im_6.1.7.apk------------------> me.talkyou.app.im\n",
      "./apks/me.talkyou.app.im_6.1.8.apk------------------> me.talkyou.app.im\n",
      "./apks/me.talkyou.app.im_6.1.9.apk------------------> me.talkyou.app.im\n",
      "./apks/me.talkyou.app.im_6.2.0.apk------------------> me.talkyou.app.im\n",
      "./apks/me.talkyou.app.im_6.2.1.apk------------------> me.talkyou.app.im\n",
      "./apks/me.talkyou.app.im_6.2.2.apk------------------> me.talkyou.app.im\n"
     ]
    }
   ],
   "source": [
    "lista_apk_paquete = []\n",
    "for apk in lista_apks:\n",
    "    sucess, paquete = instalar_apk_con_paquete(apk)\n",
    "    if sucess and paquete is not None:\n",
    "        desinstalar_app()\n",
    "    lista_apk_paquete.append((apk, paquete))\n",
    "    print(apk, paquete, sep='------------------> ')"
   ]
  },
  {
   "cell_type": "markdown",
   "id": "1cf4c2d0",
   "metadata": {},
   "source": [
    "## **Procedimiento manual** \n",
    "**Algoritmo**\n",
    "\n",
    "Desde aplicacion numero 1 hasta n aplicaciones hacer \n",
    "\n",
    "1. Instalar aplicación \n",
    "\n",
    "2. Registro en aplicación\n",
    "\n",
    "3. Remplazar numero registrado por numero sugerido en archivos de configuración de la aplicación \n",
    "\n",
    "4. Verificación de configuración nueva en aplicacion y pruebas \n",
    "\n",
    "5. Desintalar aplicación\n"
   ]
  },
  {
   "cell_type": "markdown",
   "id": "a41d7eed",
   "metadata": {},
   "source": [
    "### **1. Instalacion de apk individual**"
   ]
  },
  {
   "cell_type": "code",
   "execution_count": 19,
   "id": "488cef6f",
   "metadata": {},
   "outputs": [
    {
     "name": "stdout",
     "output_type": "stream",
     "text": [
      "./apks/me.talkyou.app.im_3.4.1.apk ------------------> me.talkyou.app.im\n"
     ]
    }
   ],
   "source": [
    "# Numero de aplicaciones = 11\n",
    "# Pendiente 2\n",
    "idx_apk = 0\n",
    "sucess, paquete = instalar_apk_con_paquete(lista_apks[idx_apk])\n",
    "print(lista_apks[idx_apk], paquete, sep=' ------------------> ')"
   ]
  },
  {
   "cell_type": "markdown",
   "id": "303de3de",
   "metadata": {},
   "source": [
    "### **2. Remplazo de numero viejo por nuevo numero**"
   ]
  },
  {
   "cell_type": "code",
   "execution_count": null,
   "id": "c1f6bcce",
   "metadata": {},
   "outputs": [
    {
     "name": "stdout",
     "output_type": "stream",
     "text": [
      "🔍 Buscando archivos...\n",
      "📁 Encontrados 2 archivos:\n",
      "   • /data/data/me.talkyou.app.im/files/mmkv/local_info\n",
      "   • /data/data/me.talkyou.app.im/databases/Dingtone.db\n",
      "\n",
      "🔄 Procesando: /data/data/me.talkyou.app.im/files/mmkv/local_info\n",
      "   🔍 Patrón encontrado en UTF-8\n",
      "✅ Modificado exitosamente: /data/data/me.talkyou.app.im/files/mmkv/local_info\n",
      "\n",
      "🔄 Procesando: /data/data/me.talkyou.app.im/databases/Dingtone.db\n",
      "   🔍 Patrón encontrado en UTF-8\n",
      "✅ Modificado exitosamente: /data/data/me.talkyou.app.im/databases/Dingtone.db\n"
     ]
    }
   ],
   "source": [
    "def reemplazar_simple_corregido():\n",
    "    viejo = \"5522958640\"\n",
    "    nuevo = \"5511282552\"\n",
    "    ruta = \"/data/data/me.talkyou.app.im\"\n",
    "\n",
    "    print(\"🔍 Buscando archivos...\")\n",
    "    cmd_buscar = f'adb shell \"su -c grep -rl {viejo} {ruta}\"'\n",
    "    result = subprocess.run(cmd_buscar, shell=True, capture_output=True, text=True)\n",
    "    \n",
    "    archivos = []\n",
    "    for linea in result.stdout.split('\\n'):\n",
    "        linea = linea.strip()\n",
    "        if linea and not linea.startswith('Binary file') and 'matches' not in linea:\n",
    "            archivo = linea.split(':')[0] if ':' in linea else linea\n",
    "            if archivo and archivo not in archivos:\n",
    "                archivos.append(archivo)\n",
    "    \n",
    "    print(f\"📁 Encontrados {len(archivos)} archivos:\")\n",
    "    for archivo in archivos:\n",
    "        print(f\"   • {archivo}\")\n",
    "    \n",
    "    # Asegurar root\n",
    "    subprocess.run(\"adb root\", shell=True, capture_output=True)\n",
    "    \n",
    "    for archivo in archivos:\n",
    "        print(f\"\\n🔄 Procesando: {archivo}\")\n",
    "        \n",
    "        try:\n",
    "            # Verificar que el archivo existe\n",
    "            check_cmd = f'adb shell \"su -c ls {archivo}\"'\n",
    "            result = subprocess.run(check_cmd, shell=True, capture_output=True, text=True)\n",
    "            \n",
    "            if result.returncode != 0:\n",
    "                print(f\"❌ Archivo no existe: {archivo}\")\n",
    "                continue\n",
    "            \n",
    "            # MÉTODO MEJORADO: Usar tempfile y pull/push para archivos binarios\n",
    "            with tempfile.NamedTemporaryFile(delete=False) as temp_file:\n",
    "                temp_path = temp_file.name\n",
    "            \n",
    "            # 1. Copiar archivo a un lugar accesible temporalmente\n",
    "            temp_remote = f\"/sdcard/temp_{os.path.basename(archivo)}\"\n",
    "            copy_cmd = f'adb shell \"su -c cp \\\\\"{archivo}\\\\\" \\\\\"{temp_remote}\\\\\"\"'\n",
    "            result_copy = subprocess.run(copy_cmd, shell=True, capture_output=True, text=True)\n",
    "            \n",
    "            if result_copy.returncode != 0:\n",
    "                print(f\"❌ Error copiando archivo: {result_copy.stderr}\")\n",
    "                continue\n",
    "            \n",
    "            # 2. Descargar usando adb pull (más confiable para binarios)\n",
    "            pull_cmd = f\"adb pull \\\"{temp_remote}\\\" \\\"{temp_path}\\\"\"\n",
    "            result_pull = subprocess.run(pull_cmd, shell=True, capture_output=True, text=True)\n",
    "            \n",
    "            if result_pull.returncode != 0:\n",
    "                print(f\"❌ Error descargando: {result_pull.stderr}\")\n",
    "                # Limpiar archivo temporal remoto\n",
    "                subprocess.run(f'adb shell \"rm {temp_remote}\"', shell=True)\n",
    "                continue\n",
    "            \n",
    "            # 3. Leer y modificar archivo\n",
    "            with open(temp_path, 'rb') as f:\n",
    "                contenido_original = f.read()\n",
    "            \n",
    "            # Buscar el patrón en diferentes codificaciones\n",
    "            contenido_nuevo = contenido_original\n",
    "            modificado = False\n",
    "            \n",
    "            # Buscar en UTF-8\n",
    "            if viejo.encode('utf-8') in contenido_original:\n",
    "                contenido_nuevo = contenido_original.replace(viejo.encode('utf-8'), nuevo.encode('utf-8'))\n",
    "                modificado = True\n",
    "                print(\"   🔍 Patrón encontrado en UTF-8\")\n",
    "            \n",
    "            # Buscar en formato de texto plano\n",
    "            elif viejo in contenido_original.decode('latin-1', errors='ignore'):\n",
    "                contenido_nuevo = contenido_original.replace(viejo.encode('latin-1'), nuevo.encode('latin-1'))\n",
    "                modificado = True\n",
    "                print(\"   🔍 Patrón encontrado en Latin-1\")\n",
    "            \n",
    "            if not modificado:\n",
    "                print(f\"⚠️  No se encontró el patrón '{viejo}' en el archivo\")\n",
    "                # Limpiar\n",
    "                os.unlink(temp_path)\n",
    "                subprocess.run(f'adb shell \"rm {temp_remote}\"', shell=True)\n",
    "                continue\n",
    "            \n",
    "            # 4. Guardar cambios\n",
    "            with open(temp_path, 'wb') as f:\n",
    "                f.write(contenido_nuevo)\n",
    "            \n",
    "            # 5. Subir archivo modificado\n",
    "            push_cmd = f\"adb push \\\"{temp_path}\\\" \\\"{temp_remote}\\\"\"\n",
    "            result_push = subprocess.run(push_cmd, shell=True, capture_output=True, text=True)\n",
    "            \n",
    "            if result_push.returncode != 0:\n",
    "                print(f\"❌ Error subiendo: {result_push.stderr}\")\n",
    "                # Limpiar\n",
    "                os.unlink(temp_path)\n",
    "                subprocess.run(f'adb shell \"rm {temp_remote}\"', shell=True)\n",
    "                continue\n",
    "            \n",
    "            # 6. Mover de vuelta al directorio original con permisos root\n",
    "            move_cmd = f'adb shell \"su -c cp \\\\\"{temp_remote}\\\\\" \\\\\"{archivo}\\\\\" && su -c chmod 644 \\\\\"{archivo}\\\\\"\"'\n",
    "            result_move = subprocess.run(move_cmd, shell=True, capture_output=True, text=True)\n",
    "            \n",
    "            if result_move.returncode == 0:\n",
    "                print(f\"✅ Modificado exitosamente: {archivo}\")\n",
    "            else:\n",
    "                print(f\"❌ Error moviendo archivo: {result_move.stderr}\")\n",
    "            \n",
    "            # 7. Limpiar archivos temporales\n",
    "            os.unlink(temp_path)\n",
    "            subprocess.run(f'adb shell \"rm {temp_remote}\"', shell=True)\n",
    "                \n",
    "        except Exception as e:\n",
    "            print(f\"❌ Error procesando {archivo}: {e}\")\n",
    "            # Limpiar en caso de error\n",
    "            if 'temp_path' in locals() and os.path.exists(temp_path):\n",
    "                os.unlink(temp_path)\n",
    "            subprocess.run(f'adb shell \"rm {temp_remote}\"', shell=True, capture_output=True)\n",
    "\n",
    "# Ejecutar\n",
    "reemplazar_simple_corregido()"
   ]
  },
  {
   "cell_type": "markdown",
   "id": "3982afe3",
   "metadata": {},
   "source": [
    "### **Desintalación de aplicación**"
   ]
  },
  {
   "cell_type": "code",
   "execution_count": 18,
   "id": "da783427",
   "metadata": {},
   "outputs": [
    {
     "data": {
      "text/plain": [
       "True"
      ]
     },
     "execution_count": 18,
     "metadata": {},
     "output_type": "execute_result"
    }
   ],
   "source": [
    "desinstalar_app()"
   ]
  }
 ],
 "metadata": {
  "kernelspec": {
   "display_name": "Python 3",
   "language": "python",
   "name": "python3"
  },
  "language_info": {
   "codemirror_mode": {
    "name": "ipython",
    "version": 3
   },
   "file_extension": ".py",
   "mimetype": "text/x-python",
   "name": "python",
   "nbconvert_exporter": "python",
   "pygments_lexer": "ipython3",
   "version": "3.10.12"
  }
 },
 "nbformat": 4,
 "nbformat_minor": 5
}
